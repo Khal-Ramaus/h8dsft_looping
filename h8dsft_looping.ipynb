{
  "nbformat": 4,
  "nbformat_minor": 0,
  "metadata": {
    "colab": {
      "name": "h8dsft_looping.ipynb",
      "provenance": [],
      "collapsed_sections": [],
      "authorship_tag": "ABX9TyMOXxOAZ15LU1S2BQTJI3qP",
      "include_colab_link": true
    },
    "kernelspec": {
      "name": "python3",
      "display_name": "Python 3"
    },
    "language_info": {
      "name": "python"
    }
  },
  "cells": [
    {
      "cell_type": "markdown",
      "metadata": {
        "id": "view-in-github",
        "colab_type": "text"
      },
      "source": [
        "<a href=\"https://colab.research.google.com/github/Khal-Ramaus/h8dsft_looping/blob/master/h8dsft_looping.ipynb\" target=\"_parent\"><img src=\"https://colab.research.google.com/assets/colab-badge.svg\" alt=\"Open In Colab\"/></a>"
      ]
    },
    {
      "cell_type": "markdown",
      "metadata": {
        "id": "y94Bfmay1CbG"
      },
      "source": [
        "Haikal Ramadhan Usman\n",
        "\n",
        "FTDS Batch001\n",
        "\n"
      ]
    },
    {
      "cell_type": "code",
      "metadata": {
        "colab": {
          "base_uri": "https://localhost:8080/"
        },
        "id": "4baTxj8_1oAq",
        "outputId": "20bd1ef1-54dd-4fca-8019-3e1ebc14aff4"
      },
      "source": [
        "numbers = [\n",
        "           951, 402, 984, 651, 360, 69, 408, 319, 601, 485, 980, 507, 725, \n",
        "           547, 544, 615, 83, 165, 141, 501, 263, 617, 865, 575, 219, 390, \n",
        "           984, 592, 236, 105, 942, 941, 386, 462, 47, 418, 907, 344, 236, \n",
        "           375, 823, 566, 597, 978, 328, 615, 953, 345, 399, 162, 758, 219, \n",
        "           918, 237, 412, 566, 826, 248, 866, 950, 626, 949\n",
        "          ]\n",
        "\n",
        "# for loop\n",
        "for x in numbers:\n",
        "  if x % 2 ==0:\n",
        "    if x != 918:\n",
        "      print(x)\n",
        "    else:\n",
        "      print(x)\n",
        "      break\n",
        "\n",
        "print(\"Done\")"
      ],
      "execution_count": 3,
      "outputs": [
        {
          "output_type": "stream",
          "text": [
            "402\n",
            "984\n",
            "360\n",
            "408\n",
            "980\n",
            "544\n",
            "390\n",
            "984\n",
            "592\n",
            "236\n",
            "942\n",
            "386\n",
            "462\n",
            "418\n",
            "344\n",
            "236\n",
            "566\n",
            "978\n",
            "328\n",
            "162\n",
            "758\n",
            "918\n",
            "Done\n"
          ],
          "name": "stdout"
        }
      ]
    },
    {
      "cell_type": "code",
      "metadata": {
        "colab": {
          "base_uri": "https://localhost:8080/"
        },
        "id": "3-tCsTfu2Xdw",
        "outputId": "abe675dd-726e-43fc-b975-0af01e83fa9d"
      },
      "source": [
        "# while loop\n",
        "i = 0\n",
        "while i < len(numbers):\n",
        "  if numbers[i] % 2 == 0:\n",
        "    if numbers[i] != 918:\n",
        "      print(numbers[i])\n",
        "    else:\n",
        "      print(numbers[i])\n",
        "      break\n",
        "  i+=1\n",
        "print(\"Done\")"
      ],
      "execution_count": 8,
      "outputs": [
        {
          "output_type": "stream",
          "text": [
            "402\n",
            "984\n",
            "360\n",
            "408\n",
            "980\n",
            "544\n",
            "390\n",
            "984\n",
            "592\n",
            "236\n",
            "942\n",
            "386\n",
            "462\n",
            "418\n",
            "344\n",
            "236\n",
            "566\n",
            "978\n",
            "328\n",
            "162\n",
            "758\n",
            "918\n",
            "Done\n"
          ],
          "name": "stdout"
        }
      ]
    }
  ]
}